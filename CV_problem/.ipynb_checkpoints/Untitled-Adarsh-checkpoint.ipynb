{
 "cells": [
  {
   "cell_type": "code",
   "execution_count": 4,
   "metadata": {
    "ExecuteTime": {
     "end_time": "2019-04-10T11:29:59.147176Z",
     "start_time": "2019-04-10T11:29:59.143174Z"
    },
    "collapsed": true
   },
   "outputs": [],
   "source": [
    "from sklearn.preprocessing import LabelEncoder\n",
    "import numpy as np\n",
    "from torch.utils.data import Dataset\n",
    "import pickle\n",
    "import torch\n",
    "from torch.utils.data import DataLoader\n",
    "from torch.utils.data.dataset import random_split\n",
    "from torchvision import transforms"
   ]
  },
  {
   "cell_type": "code",
   "execution_count": 5,
   "metadata": {
    "ExecuteTime": {
     "end_time": "2019-04-10T11:29:59.316706Z",
     "start_time": "2019-04-10T11:29:59.149179Z"
    },
    "collapsed": true
   },
   "outputs": [],
   "source": [
    "class ImageDataset(Dataset):\n",
    "    \n",
    "    def __init__(self, csv_files,transform):\n",
    "        super().__init__()\n",
    "        \n",
    "        with open(csv_files[0], 'rb') as f:\n",
    "            X = np.array(pickle.load(f),dtype=np.float32)\n",
    "             \n",
    "        with open(csv_files[1], 'rb') as g:\n",
    "            y = np.array(pickle.load(g))\n",
    "        \n",
    "        self.transform=transform\n",
    "        le=LabelEncoder()\n",
    "        y_label=le.fit_transform(y)\n",
    "        self.X= X.reshape(-1,1,28,28)\n",
    "        self.y=y_label\n",
    "        self.le =le\n",
    "                \n",
    "        \n",
    "                \n",
    "    def get_class_count(self):\n",
    "        return len(self.le.classes_)\n",
    "    \n",
    "    def get_input_dim(self):\n",
    "        return self.X.shape[1]\n",
    "    \n",
    "    def get_class_labels(self,y_label):\n",
    "        le=self.le\n",
    "        return le.inverse_transform(y_label)\n",
    "        \n",
    "    def __len__(self):\n",
    "        return len(self.X)\n",
    "    \n",
    "    def __getitem__(self, idx):\n",
    "        return self.X[idx],self.y[idx]"
   ]
  },
  {
   "cell_type": "code",
   "execution_count": 7,
   "metadata": {
    "ExecuteTime": {
     "end_time": "2019-04-10T11:30:21.280124Z",
     "start_time": "2019-04-10T11:30:20.709705Z"
    }
   },
   "outputs": [],
   "source": [
    "transform_ori = transforms.Compose([transforms.RandomResizedCrop(64),   #create 64x64 image\n",
    "                                    transforms.RandomHorizontalFlip(),    #flipping the image horizontally\n",
    "                                    transforms.ToTensor(),                 #convert the image to a Tensor\n",
    "                                    transforms.Normalize(mean=[0.485, 0.456, 0.406], std=[0.229, 0.224, 0.225])])  #normalize the image\n",
    "\n",
    "im = ImageDataset(['train_image.pkl','train_label.pkl'],transform_ori)\n",
    "input_dim= im.get_input_dim()\n",
    "output_dim = im.get_class_count()\n",
    "batch_size = 512\n",
    "train_size = int(0.8 * len(im))\n",
    "test_size = len(im) - train_size\n",
    "train_dataset, test_dataset = random_split(im, [train_size, test_size])\n",
    "train_loader= DataLoader(train_dataset,batch_size=batch_size,shuffle=True)\n",
    "test_loader = DataLoader(test_dataset,batch_size=batch_size, shuffle=False)"
   ]
  },
  {
   "cell_type": "code",
   "execution_count": 8,
   "metadata": {
    "ExecuteTime": {
     "end_time": "2019-04-10T11:30:21.313476Z",
     "start_time": "2019-04-10T11:30:21.308473Z"
    }
   },
   "outputs": [],
   "source": [
    "import torch.nn as nn\n",
    "\n",
    "n_iters = 3000\n",
    "num_epochs = n_iters / (len(train_dataset) / batch_size)\n",
    "num_epochs = int(num_epochs)"
   ]
  },
  {
   "cell_type": "code",
   "execution_count": 9,
   "metadata": {
    "ExecuteTime": {
     "end_time": "2019-04-10T11:30:22.190521Z",
     "start_time": "2019-04-10T11:30:22.180516Z"
    }
   },
   "outputs": [
    {
     "data": {
      "text/plain": [
       "6400"
      ]
     },
     "execution_count": 9,
     "metadata": {},
     "output_type": "execute_result"
    }
   ],
   "source": [
    "train_size"
   ]
  },
  {
   "cell_type": "code",
   "execution_count": 10,
   "metadata": {
    "ExecuteTime": {
     "end_time": "2019-04-10T11:30:22.803713Z",
     "start_time": "2019-04-10T11:30:22.773697Z"
    }
   },
   "outputs": [],
   "source": [
    "class Network(nn.Module):\n",
    "    def __init__(self):\n",
    "        super(Network,self).__init__()\n",
    "        self.conv1 = nn.Conv2d(in_channels=1, out_channels=6, kernel_size=5)\n",
    "        self.relu1 = nn.ReLU()\n",
    "        self.batch1=nn.BatchNorm2d(6)\n",
    "        # Max pool 1\n",
    "        self.maxpool1 = nn.MaxPool2d(kernel_size=2)\n",
    "        \n",
    "        self.conv2 = nn.Conv2d(in_channels=6, out_channels=12, kernel_size=5)\n",
    "        self.relu2 = nn.ReLU()\n",
    "        self.batch2=nn.BatchNorm2d(12)\n",
    "        # Max pool 2\n",
    "        self.maxpool2 = nn.MaxPool2d(kernel_size=2)\n",
    "        \n",
    "        self.fc1 = nn.Linear(in_features=12 * 4 * 4, out_features=120)\n",
    "        self.fc2 = nn.Linear(in_features=120, out_features=60)\n",
    "        self.droput = nn.Dropout(p=0.5)\n",
    "        self.outer = nn.Linear(in_features=60, out_features=4)\n",
    "        \n",
    "    def forward(self,x):\n",
    "        # Convolution 1\n",
    "        out = self.conv1(x)\n",
    "        out = self.relu1(out)\n",
    "        out = self.batch1(out)\n",
    "        # Max pool 1\n",
    "        out = self.maxpool1(out)\n",
    "\n",
    "        # Convolution 2 \n",
    "        out = self.conv2(out)\n",
    "        out = self.relu2(out)\n",
    "        out = self.batch2(out)\n",
    "        # Max pool 2 \n",
    "        out = self.maxpool2(out)\n",
    "\n",
    "        out = out.view(out.size(0), -1)\n",
    "\n",
    "        # Linear function (readout)\n",
    "        out = self.fc1(out)\n",
    "        out = self.fc2(out)\n",
    "        out = self.droput(out)\n",
    "        out = self.outer(out)\n",
    "        return out\n"
   ]
  },
  {
   "cell_type": "code",
   "execution_count": 11,
   "metadata": {
    "ExecuteTime": {
     "end_time": "2019-04-10T11:30:23.355268Z",
     "start_time": "2019-04-10T11:30:23.348265Z"
    },
    "collapsed": true
   },
   "outputs": [],
   "source": [
    "model = Network()\n",
    "criterion = nn.CrossEntropyLoss()\n",
    "learning_rate = 0.001\n",
    "optimizer = torch.optim.Adam(model.parameters(), lr=learning_rate)"
   ]
  },
  {
   "cell_type": "code",
   "execution_count": 13,
   "metadata": {
    "ExecuteTime": {
     "end_time": "2019-04-10T11:36:18.166263Z",
     "start_time": "2019-04-10T11:34:41.124682Z"
    }
   },
   "outputs": [
    {
     "name": "stdout",
     "output_type": "stream",
     "text": [
      "Iteration: 500. Loss: 0.23530852794647217. Accuracy: 80,Epoch: 7.\n",
      "Iteration: 1000. Loss: 0.1663648933172226. Accuracy: 80,Epoch: 15.\n",
      "Iteration: 1500. Loss: 0.11250956356525421. Accuracy: 80,Epoch: 23.\n",
      "Iteration: 2000. Loss: 0.14301219582557678. Accuracy: 79,Epoch: 31.\n",
      "Iteration: 2500. Loss: 0.06742309033870697. Accuracy: 79,Epoch: 39.\n"
     ]
    }
   ],
   "source": [
    "iter = 0\n",
    "for epoch in range(num_epochs):\n",
    "    model.train()\n",
    "    for i, (images, labels) in enumerate(train_loader):\n",
    "        # Load images as tensors with gradient accumulation abilities\n",
    "        images = images.requires_grad_()\n",
    "\n",
    "        # Clear gradients w.r.t. parameters\n",
    "        optimizer.zero_grad()\n",
    "\n",
    "        # Forward pass to get output/logits\n",
    "        outputs = model(images)\n",
    "\n",
    "        # Calculate Loss: softmax --> cross entropy loss\n",
    "        loss = criterion(outputs, labels)\n",
    "\n",
    "        # Getting gradients w.r.t. parameters\n",
    "        loss.backward()\n",
    "\n",
    "        # Updating parameters\n",
    "        optimizer.step()\n",
    "\n",
    "        iter += 1\n",
    "        model.eval()\n",
    "        if iter % 500 == 0:\n",
    "            # Calculate Accuracy         \n",
    "            correct = 0\n",
    "            total = 0\n",
    "            # Iterate through test dataset\n",
    "            for images, labels in test_loader:\n",
    "                # Load images to tensors with gradient accumulation abilities\n",
    "                images = images.requires_grad_()\n",
    "\n",
    "                # Forward pass only to get logits/output\n",
    "                outputs = model(images)\n",
    "\n",
    "                # Get predictions from the maximum value\n",
    "                _, predicted = torch.max(outputs.data, 1)\n",
    "\n",
    "                # Total number of labels\n",
    "                total += labels.size(0)\n",
    "\n",
    "                # Total correct predictions\n",
    "                correct += (predicted == labels).sum()\n",
    "\n",
    "            accuracy = 100 * correct / total\n",
    "\n",
    "            # Print Loss\n",
    "            print('Iteration: {}. Loss: {}. Accuracy: {},Epoch: {}.'.format(iter, loss.item(), accuracy,epoch))"
   ]
  },
  {
   "cell_type": "code",
   "execution_count": null,
   "metadata": {
    "collapsed": true
   },
   "outputs": [],
   "source": []
  }
 ],
 "metadata": {
  "kernelspec": {
   "display_name": "Python 3",
   "language": "python",
   "name": "python3"
  },
  "language_info": {
   "codemirror_mode": {
    "name": "ipython",
    "version": 3
   },
   "file_extension": ".py",
   "mimetype": "text/x-python",
   "name": "python",
   "nbconvert_exporter": "python",
   "pygments_lexer": "ipython3",
   "version": "3.6.7"
  },
  "varInspector": {
   "cols": {
    "lenName": 16,
    "lenType": 16,
    "lenVar": 40
   },
   "kernels_config": {
    "python": {
     "delete_cmd_postfix": "",
     "delete_cmd_prefix": "del ",
     "library": "var_list.py",
     "varRefreshCmd": "print(var_dic_list())"
    },
    "r": {
     "delete_cmd_postfix": ") ",
     "delete_cmd_prefix": "rm(",
     "library": "var_list.r",
     "varRefreshCmd": "cat(var_dic_list()) "
    }
   },
   "types_to_exclude": [
    "module",
    "function",
    "builtin_function_or_method",
    "instance",
    "_Feature"
   ],
   "window_display": false
  }
 },
 "nbformat": 4,
 "nbformat_minor": 2
}
